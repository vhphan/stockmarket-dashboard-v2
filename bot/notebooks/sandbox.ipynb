{
 "cells": [
  {
   "cell_type": "code",
   "execution_count": 46,
   "metadata": {},
   "outputs": [],
   "source": [
    "from alpaca.data.historical import CryptoHistoricalDataClient\n",
    "from alpaca.data.requests import CryptoBarsRequest\n",
    "from alpaca.data.timeframe import TimeFrame\n",
    "from datetime import datetime\n",
    "\n",
    "import pandas as pd\n",
    "import numpy as np"
   ]
  },
  {
   "cell_type": "code",
   "execution_count": null,
   "metadata": {
    "collapsed": false
   },
   "outputs": [],
   "source": [
    "import os\n",
    "os.getcwd()"
   ]
  },
  {
   "cell_type": "code",
   "execution_count": null,
   "metadata": {
    "collapsed": false
   },
   "outputs": [],
   "source": [
    "%cd ../.."
   ]
  },
  {
   "cell_type": "code",
   "execution_count": null,
   "metadata": {
    "collapsed": false
   },
   "outputs": [],
   "source": [
    "from dotenv import load_dotenv\n",
    "\n",
    "load_dotenv('bot/.env')"
   ]
  },
  {
   "cell_type": "code",
   "execution_count": null,
   "metadata": {
    "collapsed": false
   },
   "outputs": [],
   "source": [
    "\n",
    "\n",
    "# no keys required for crypto data\n",
    "# client = CryptoHistoricalDataClient()\n",
    "\n",
    "# request_params = CryptoBarsRequest(\n",
    "#                         symbol_or_symbols=[\n",
    "#                             \"BTC/USD\",\n",
    "#                             \"ETH/USD\",\n",
    "#                             \"ADA/USD\"\n",
    "#                         ],\n",
    "#                         timeframe=TimeFrame.Day,\n",
    "#                         start=datetime(2022, 1, 1)\n",
    "#                  )\n",
    "\n",
    "# bars = client.get_crypto_bars(request_params)"
   ]
  },
  {
   "cell_type": "code",
   "execution_count": null,
   "metadata": {
    "collapsed": false
   },
   "outputs": [],
   "source": [
    "%run ./bot/db/main_db.py"
   ]
  },
  {
   "cell_type": "code",
   "execution_count": null,
   "metadata": {},
   "outputs": [],
   "source": [
    "\n",
    "db = FinanceDB.Instance(schema='crypto').pg_db"
   ]
  },
  {
   "cell_type": "code",
   "execution_count": null,
   "metadata": {},
   "outputs": [],
   "source": [
    "df = db.query('select * from information_schema.tables limit 1')\n",
    "df"
   ]
  },
  {
   "cell_type": "code",
   "execution_count": null,
   "metadata": {},
   "outputs": [],
   "source": [
    "# db.df_to_db(bars.df, name='crypto_bars')"
   ]
  },
  {
   "cell_type": "code",
   "execution_count": null,
   "metadata": {},
   "outputs": [],
   "source": [
    "import sqlalchemy\n",
    "sqlalchemy.__version__"
   ]
  },
  {
   "cell_type": "code",
   "execution_count": null,
   "metadata": {},
   "outputs": [],
   "source": [
    "df = db.query_df(\"select * from finance.crypto.crypto_bars where symbol='ETH/USD' ORDER BY timestamp;\")\n",
    "df"
   ]
  },
  {
   "cell_type": "code",
   "execution_count": 13,
   "metadata": {},
   "outputs": [
    {
     "data": {
      "text/html": [
       "<div>\n",
       "<style scoped>\n",
       "    .dataframe tbody tr th:only-of-type {\n",
       "        vertical-align: middle;\n",
       "    }\n",
       "\n",
       "    .dataframe tbody tr th {\n",
       "        vertical-align: top;\n",
       "    }\n",
       "\n",
       "    .dataframe thead th {\n",
       "        text-align: right;\n",
       "    }\n",
       "</style>\n",
       "<table border=\"1\" class=\"dataframe\">\n",
       "  <thead>\n",
       "    <tr style=\"text-align: right;\">\n",
       "      <th></th>\n",
       "      <th>symbol</th>\n",
       "      <th>open</th>\n",
       "      <th>high</th>\n",
       "      <th>low</th>\n",
       "      <th>close</th>\n",
       "      <th>volume</th>\n",
       "      <th>trade_count</th>\n",
       "      <th>vwap</th>\n",
       "      <th>open-close</th>\n",
       "      <th>high-low</th>\n",
       "    </tr>\n",
       "    <tr>\n",
       "      <th>timestamp</th>\n",
       "      <th></th>\n",
       "      <th></th>\n",
       "      <th></th>\n",
       "      <th></th>\n",
       "      <th></th>\n",
       "      <th></th>\n",
       "      <th></th>\n",
       "      <th></th>\n",
       "      <th></th>\n",
       "      <th></th>\n",
       "    </tr>\n",
       "  </thead>\n",
       "  <tbody>\n",
       "    <tr>\n",
       "      <th>2022-01-01 06:00:00+00:00</th>\n",
       "      <td>ETH/USD</td>\n",
       "      <td>3737.79</td>\n",
       "      <td>3784.20</td>\n",
       "      <td>3674.37</td>\n",
       "      <td>3745.73</td>\n",
       "      <td>5567.407470</td>\n",
       "      <td>20524.0</td>\n",
       "      <td>3739.684582</td>\n",
       "      <td>-7.94</td>\n",
       "      <td>109.83</td>\n",
       "    </tr>\n",
       "    <tr>\n",
       "      <th>2022-01-02 06:00:00+00:00</th>\n",
       "      <td>ETH/USD</td>\n",
       "      <td>3744.14</td>\n",
       "      <td>3857.43</td>\n",
       "      <td>3731.18</td>\n",
       "      <td>3812.00</td>\n",
       "      <td>5407.467570</td>\n",
       "      <td>21175.0</td>\n",
       "      <td>3799.932562</td>\n",
       "      <td>-67.86</td>\n",
       "      <td>126.25</td>\n",
       "    </tr>\n",
       "    <tr>\n",
       "      <th>2022-01-03 06:00:00+00:00</th>\n",
       "      <td>ETH/USD</td>\n",
       "      <td>3813.53</td>\n",
       "      <td>3853.08</td>\n",
       "      <td>3681.79</td>\n",
       "      <td>3741.63</td>\n",
       "      <td>7290.358970</td>\n",
       "      <td>26467.0</td>\n",
       "      <td>3762.843739</td>\n",
       "      <td>71.90</td>\n",
       "      <td>171.29</td>\n",
       "    </tr>\n",
       "    <tr>\n",
       "      <th>2022-01-04 06:00:00+00:00</th>\n",
       "      <td>ETH/USD</td>\n",
       "      <td>3741.94</td>\n",
       "      <td>3893.47</td>\n",
       "      <td>3735.94</td>\n",
       "      <td>3804.28</td>\n",
       "      <td>8872.221780</td>\n",
       "      <td>30032.0</td>\n",
       "      <td>3822.980393</td>\n",
       "      <td>-62.34</td>\n",
       "      <td>157.53</td>\n",
       "    </tr>\n",
       "    <tr>\n",
       "      <th>2022-01-05 06:00:00+00:00</th>\n",
       "      <td>ETH/USD</td>\n",
       "      <td>3804.28</td>\n",
       "      <td>3848.00</td>\n",
       "      <td>3399.00</td>\n",
       "      <td>3458.12</td>\n",
       "      <td>18024.777020</td>\n",
       "      <td>52361.0</td>\n",
       "      <td>3606.037685</td>\n",
       "      <td>346.16</td>\n",
       "      <td>449.00</td>\n",
       "    </tr>\n",
       "    <tr>\n",
       "      <th>...</th>\n",
       "      <td>...</td>\n",
       "      <td>...</td>\n",
       "      <td>...</td>\n",
       "      <td>...</td>\n",
       "      <td>...</td>\n",
       "      <td>...</td>\n",
       "      <td>...</td>\n",
       "      <td>...</td>\n",
       "      <td>...</td>\n",
       "      <td>...</td>\n",
       "    </tr>\n",
       "    <tr>\n",
       "      <th>2023-05-21 05:00:00+00:00</th>\n",
       "      <td>ETH/USD</td>\n",
       "      <td>1817.63</td>\n",
       "      <td>1819.36</td>\n",
       "      <td>1791.64</td>\n",
       "      <td>1803.86</td>\n",
       "      <td>8294.515846</td>\n",
       "      <td>14746.0</td>\n",
       "      <td>1808.071841</td>\n",
       "      <td>13.77</td>\n",
       "      <td>27.72</td>\n",
       "    </tr>\n",
       "    <tr>\n",
       "      <th>2023-05-22 05:00:00+00:00</th>\n",
       "      <td>ETH/USD</td>\n",
       "      <td>1803.90</td>\n",
       "      <td>1869.00</td>\n",
       "      <td>1803.67</td>\n",
       "      <td>1856.44</td>\n",
       "      <td>12464.067194</td>\n",
       "      <td>23728.0</td>\n",
       "      <td>1825.339297</td>\n",
       "      <td>-52.54</td>\n",
       "      <td>65.33</td>\n",
       "    </tr>\n",
       "    <tr>\n",
       "      <th>2023-05-23 05:00:00+00:00</th>\n",
       "      <td>ETH/USD</td>\n",
       "      <td>1856.70</td>\n",
       "      <td>1862.04</td>\n",
       "      <td>1816.44</td>\n",
       "      <td>1829.49</td>\n",
       "      <td>12540.396888</td>\n",
       "      <td>22983.0</td>\n",
       "      <td>1848.831277</td>\n",
       "      <td>27.21</td>\n",
       "      <td>45.60</td>\n",
       "    </tr>\n",
       "    <tr>\n",
       "      <th>2023-05-24 05:00:00+00:00</th>\n",
       "      <td>ETH/USD</td>\n",
       "      <td>1829.97</td>\n",
       "      <td>1831.57</td>\n",
       "      <td>1765.09</td>\n",
       "      <td>1782.10</td>\n",
       "      <td>16128.875023</td>\n",
       "      <td>25428.0</td>\n",
       "      <td>1800.311111</td>\n",
       "      <td>47.87</td>\n",
       "      <td>66.48</td>\n",
       "    </tr>\n",
       "    <tr>\n",
       "      <th>2023-05-25 05:00:00+00:00</th>\n",
       "      <td>ETH/USD</td>\n",
       "      <td>1782.10</td>\n",
       "      <td>1790.08</td>\n",
       "      <td>1781.39</td>\n",
       "      <td>1786.06</td>\n",
       "      <td>310.898894</td>\n",
       "      <td>678.0</td>\n",
       "      <td>1785.669610</td>\n",
       "      <td>-3.96</td>\n",
       "      <td>8.69</td>\n",
       "    </tr>\n",
       "  </tbody>\n",
       "</table>\n",
       "<p>510 rows × 10 columns</p>\n",
       "</div>"
      ],
      "text/plain": [
       "                            symbol     open     high      low    close  \\\n",
       "timestamp                                                                \n",
       "2022-01-01 06:00:00+00:00  ETH/USD  3737.79  3784.20  3674.37  3745.73   \n",
       "2022-01-02 06:00:00+00:00  ETH/USD  3744.14  3857.43  3731.18  3812.00   \n",
       "2022-01-03 06:00:00+00:00  ETH/USD  3813.53  3853.08  3681.79  3741.63   \n",
       "2022-01-04 06:00:00+00:00  ETH/USD  3741.94  3893.47  3735.94  3804.28   \n",
       "2022-01-05 06:00:00+00:00  ETH/USD  3804.28  3848.00  3399.00  3458.12   \n",
       "...                            ...      ...      ...      ...      ...   \n",
       "2023-05-21 05:00:00+00:00  ETH/USD  1817.63  1819.36  1791.64  1803.86   \n",
       "2023-05-22 05:00:00+00:00  ETH/USD  1803.90  1869.00  1803.67  1856.44   \n",
       "2023-05-23 05:00:00+00:00  ETH/USD  1856.70  1862.04  1816.44  1829.49   \n",
       "2023-05-24 05:00:00+00:00  ETH/USD  1829.97  1831.57  1765.09  1782.10   \n",
       "2023-05-25 05:00:00+00:00  ETH/USD  1782.10  1790.08  1781.39  1786.06   \n",
       "\n",
       "                                 volume  trade_count         vwap  open-close  \\\n",
       "timestamp                                                                       \n",
       "2022-01-01 06:00:00+00:00   5567.407470      20524.0  3739.684582       -7.94   \n",
       "2022-01-02 06:00:00+00:00   5407.467570      21175.0  3799.932562      -67.86   \n",
       "2022-01-03 06:00:00+00:00   7290.358970      26467.0  3762.843739       71.90   \n",
       "2022-01-04 06:00:00+00:00   8872.221780      30032.0  3822.980393      -62.34   \n",
       "2022-01-05 06:00:00+00:00  18024.777020      52361.0  3606.037685      346.16   \n",
       "...                                 ...          ...          ...         ...   \n",
       "2023-05-21 05:00:00+00:00   8294.515846      14746.0  1808.071841       13.77   \n",
       "2023-05-22 05:00:00+00:00  12464.067194      23728.0  1825.339297      -52.54   \n",
       "2023-05-23 05:00:00+00:00  12540.396888      22983.0  1848.831277       27.21   \n",
       "2023-05-24 05:00:00+00:00  16128.875023      25428.0  1800.311111       47.87   \n",
       "2023-05-25 05:00:00+00:00    310.898894        678.0  1785.669610       -3.96   \n",
       "\n",
       "                           high-low  \n",
       "timestamp                            \n",
       "2022-01-01 06:00:00+00:00    109.83  \n",
       "2022-01-02 06:00:00+00:00    126.25  \n",
       "2022-01-03 06:00:00+00:00    171.29  \n",
       "2022-01-04 06:00:00+00:00    157.53  \n",
       "2022-01-05 06:00:00+00:00    449.00  \n",
       "...                             ...  \n",
       "2023-05-21 05:00:00+00:00     27.72  \n",
       "2023-05-22 05:00:00+00:00     65.33  \n",
       "2023-05-23 05:00:00+00:00     45.60  \n",
       "2023-05-24 05:00:00+00:00     66.48  \n",
       "2023-05-25 05:00:00+00:00      8.69  \n",
       "\n",
       "[510 rows x 10 columns]"
      ]
     },
     "execution_count": 13,
     "metadata": {},
     "output_type": "execute_result"
    }
   ],
   "source": [
    "df = (\n",
    "    df\n",
    "        .assign(**{\n",
    "        'open-close': lambda x: x['open'] - x['close'],\n",
    "        'high-low': lambda x: x['high'] - x['low'],\n",
    "        })\n",
    "        .dropna()\n",
    "        .set_index('timestamp')\n",
    ")\n",
    "df"
   ]
  },
  {
   "cell_type": "code",
   "execution_count": 14,
   "metadata": {},
   "outputs": [
    {
     "data": {
      "text/html": [
       "<div>\n",
       "<style scoped>\n",
       "    .dataframe tbody tr th:only-of-type {\n",
       "        vertical-align: middle;\n",
       "    }\n",
       "\n",
       "    .dataframe tbody tr th {\n",
       "        vertical-align: top;\n",
       "    }\n",
       "\n",
       "    .dataframe thead th {\n",
       "        text-align: right;\n",
       "    }\n",
       "</style>\n",
       "<table border=\"1\" class=\"dataframe\">\n",
       "  <thead>\n",
       "    <tr style=\"text-align: right;\">\n",
       "      <th></th>\n",
       "      <th>open-close</th>\n",
       "      <th>high-low</th>\n",
       "    </tr>\n",
       "    <tr>\n",
       "      <th>timestamp</th>\n",
       "      <th></th>\n",
       "      <th></th>\n",
       "    </tr>\n",
       "  </thead>\n",
       "  <tbody>\n",
       "    <tr>\n",
       "      <th>2022-01-01 06:00:00+00:00</th>\n",
       "      <td>-7.94</td>\n",
       "      <td>109.83</td>\n",
       "    </tr>\n",
       "    <tr>\n",
       "      <th>2022-01-02 06:00:00+00:00</th>\n",
       "      <td>-67.86</td>\n",
       "      <td>126.25</td>\n",
       "    </tr>\n",
       "    <tr>\n",
       "      <th>2022-01-03 06:00:00+00:00</th>\n",
       "      <td>71.90</td>\n",
       "      <td>171.29</td>\n",
       "    </tr>\n",
       "    <tr>\n",
       "      <th>2022-01-04 06:00:00+00:00</th>\n",
       "      <td>-62.34</td>\n",
       "      <td>157.53</td>\n",
       "    </tr>\n",
       "    <tr>\n",
       "      <th>2022-01-05 06:00:00+00:00</th>\n",
       "      <td>346.16</td>\n",
       "      <td>449.00</td>\n",
       "    </tr>\n",
       "  </tbody>\n",
       "</table>\n",
       "</div>"
      ],
      "text/plain": [
       "                           open-close  high-low\n",
       "timestamp                                      \n",
       "2022-01-01 06:00:00+00:00       -7.94    109.83\n",
       "2022-01-02 06:00:00+00:00      -67.86    126.25\n",
       "2022-01-03 06:00:00+00:00       71.90    171.29\n",
       "2022-01-04 06:00:00+00:00      -62.34    157.53\n",
       "2022-01-05 06:00:00+00:00      346.16    449.00"
      ]
     },
     "execution_count": 14,
     "metadata": {},
     "output_type": "execute_result"
    }
   ],
   "source": [
    "X = df[['open-close', 'high-low']]\n",
    "X.head()"
   ]
  },
  {
   "cell_type": "code",
   "execution_count": 15,
   "metadata": {},
   "outputs": [
    {
     "data": {
      "text/plain": [
       "array([ 1, -1,  1, -1, -1, -1, -1,  1, -1,  1,  1, -1,  1, -1, -1, -1, -1,\n",
       "        1, -1, -1, -1, -1, -1,  1, -1,  1,  1,  1, -1,  1,  1, -1,  1,  1,\n",
       "       -1,  1,  1, -1,  1, -1, -1, -1, -1,  1,  1, -1, -1, -1, -1,  1, -1,\n",
       "        1, -1,  1,  1, -1, -1,  1,  1, -1, -1, -1,  1, -1, -1,  1, -1, -1,\n",
       "        1, -1, -1, -1,  1,  1,  1,  1, -1, -1,  1, -1,  1,  1, -1,  1,  1,\n",
       "        1, -1,  1, -1,  1, -1,  1,  1, -1, -1,  1, -1,  1, -1, -1,  1,  1,\n",
       "       -1,  1, -1, -1,  1,  1, -1, -1, -1,  1, -1,  1, -1,  1,  1, -1, -1,\n",
       "        1, -1, -1,  1, -1, -1, -1, -1, -1,  1, -1,  1, -1, -1,  1,  1, -1,\n",
       "       -1,  1, -1,  1,  1, -1,  1, -1, -1,  1,  1,  1,  1, -1, -1,  1, -1,\n",
       "        1,  1, -1,  1,  1, -1, -1, -1, -1, -1, -1,  1, -1, -1, -1,  1,  1,\n",
       "       -1, -1,  1,  1,  1, -1, -1, -1, -1, -1, -1,  1, -1,  1, -1,  1,  1,\n",
       "       -1, -1, -1, -1, -1,  1,  1,  1,  1,  1,  1,  1, -1,  1,  1, -1, -1,\n",
       "       -1,  1,  1,  1, -1,  1, -1, -1,  1,  1,  1,  1, -1,  1,  1, -1,  1,\n",
       "       -1,  1, -1, -1, -1,  1, -1, -1, -1, -1,  1,  1,  1,  1,  1, -1, -1,\n",
       "       -1,  1,  1, -1,  1, -1, -1,  1,  1, -1,  1,  1,  1,  1, -1, -1, -1,\n",
       "       -1, -1, -1,  1, -1,  1, -1, -1,  1, -1, -1, -1,  1, -1,  1, -1,  1,\n",
       "       -1, -1,  1,  1,  1, -1, -1, -1,  1, -1,  1, -1,  1, -1, -1,  1,  1,\n",
       "       -1, -1, -1,  1,  1,  1, -1,  1,  1, -1,  1,  1, -1,  1,  1, -1, -1,\n",
       "        1, -1, -1, -1, -1, -1,  1, -1,  1, -1,  1,  1, -1,  1, -1,  1, -1,\n",
       "       -1,  1,  1, -1,  1, -1, -1,  1,  1,  1, -1,  1, -1,  1, -1,  1, -1,\n",
       "        1, -1,  1, -1,  1,  1, -1, -1, -1,  1, -1,  1,  1,  1,  1, -1,  1,\n",
       "        1,  1, -1,  1, -1, -1,  1,  1,  1,  1,  1, -1,  1, -1,  1,  1,  1,\n",
       "        1,  1,  1, -1,  1, -1,  1, -1,  1,  1, -1,  1,  1, -1,  1, -1,  1,\n",
       "       -1,  1, -1,  1,  1, -1,  1,  1, -1,  1,  1, -1, -1, -1,  1, -1, -1,\n",
       "        1,  1, -1,  1,  1, -1,  1, -1,  1, -1, -1,  1,  1, -1,  1, -1, -1,\n",
       "       -1,  1, -1,  1, -1, -1, -1,  1,  1,  1,  1,  1, -1,  1,  1, -1, -1,\n",
       "       -1,  1, -1,  1, -1, -1,  1, -1,  1,  1,  1,  1, -1, -1,  1,  1, -1,\n",
       "       -1, -1, -1,  1,  1, -1,  1,  1, -1,  1,  1, -1,  1, -1, -1, -1,  1,\n",
       "       -1, -1,  1,  1,  1, -1, -1, -1, -1,  1,  1, -1,  1, -1, -1, -1, -1,\n",
       "       -1, -1,  1,  1,  1, -1,  1, -1, -1,  1,  1, -1,  1, -1, -1,  1, -1])"
      ]
     },
     "execution_count": 15,
     "metadata": {},
     "output_type": "execute_result"
    }
   ],
   "source": [
    "# The logic is that if the tomorrow’s closing price is greater than today’s closing price, then we will buy, else we will sell.\n",
    "# We will store +1 for the buy signal and -1 for the sell signal. We will store the target variable in a variable ’Y’.\n",
    "import numpy as np\n",
    "Y = np.where(df['close'].shift(-1) > df['close'], 1, -1)\n",
    "Y"
   ]
  },
  {
   "cell_type": "code",
   "execution_count": 16,
   "metadata": {},
   "outputs": [],
   "source": [
    "# # Splitting the dataset\n",
    "split_percentage = 0.7\n",
    "split = int(split_percentage*len(df))\n",
    "X_train = X[:split]\n",
    "Y_train = Y[:split]\n",
    "X_test = X[split:]\n",
    "Y_test = Y[split:]"
   ]
  },
  {
   "cell_type": "code",
   "execution_count": 17,
   "metadata": {},
   "outputs": [
    {
     "name": "stdout",
     "output_type": "stream",
     "text": [
      "Train Accuracy: 0.6162464985994398\n",
      "Test Accuracy: 0.5751633986928104\n"
     ]
    }
   ],
   "source": [
    "# instantiate k-nearest classifier. Here we are using ‘k =15’, you may vary the value of k and notice the change in result.\n",
    "from sklearn.neighbors import KNeighborsClassifier\n",
    "knn = KNeighborsClassifier(n_neighbors=15)\n",
    "\n",
    "# fit the model\n",
    "knn.fit(X_train, Y_train)\n",
    "\n",
    "# calculate accuracy\n",
    "accuracy_train, accuracy_test = knn.score(X_train, Y_train), knn.score(X_test, Y_test)\n",
    "\n",
    "print(f'Train Accuracy: {accuracy_train}')\n",
    "print(f'Test Accuracy: {accuracy_test}')\n"
   ]
  },
  {
   "cell_type": "code",
   "execution_count": null,
   "metadata": {},
   "outputs": [],
   "source": []
  },
  {
   "cell_type": "code",
   "execution_count": null,
   "metadata": {},
   "outputs": [],
   "source": []
  },
  {
   "cell_type": "code",
   "execution_count": null,
   "metadata": {},
   "outputs": [],
   "source": []
  },
  {
   "cell_type": "code",
   "execution_count": null,
   "metadata": {},
   "outputs": [],
   "source": []
  },
  {
   "cell_type": "code",
   "execution_count": null,
   "metadata": {},
   "outputs": [],
   "source": []
  },
  {
   "cell_type": "code",
   "execution_count": 18,
   "metadata": {},
   "outputs": [],
   "source": [
    "from sklearn.datasets import make_classification\n",
    "from sklearn.model_selection import train_test_split\n",
    "from sklearn.preprocessing import StandardScaler\n",
    "from sklearn.linear_model import LogisticRegression\n",
    "from sklearn.pipeline import make_pipeline\n",
    "from sklearn.metrics import accuracy_score"
   ]
  },
  {
   "cell_type": "code",
   "execution_count": 19,
   "metadata": {},
   "outputs": [],
   "source": [
    "# create a function to calculate the lorentzian distance of 2 vectors\n",
    "\n",
    "def lorentzian_distance(x, y):\n",
    "    return np.log(1 + np.sum(np.abs(x - y)))\n",
    "\n"
   ]
  },
  {
   "cell_type": "code",
   "execution_count": 20,
   "metadata": {},
   "outputs": [
    {
     "name": "stdout",
     "output_type": "stream",
     "text": [
      "Train Accuracy: 0.6358543417366946\n",
      "Test Accuracy: 0.5228758169934641\n"
     ]
    }
   ],
   "source": [
    "# instantiate k-nearest classifier. Here we are using ‘k =15’, you may vary the value of k and notice the change in result.\n",
    "from sklearn.neighbors import KNeighborsClassifier\n",
    "knn = KNeighborsClassifier(n_neighbors=3, metric=lorentzian_distance)\n",
    "\n",
    "# fit the model\n",
    "knn.fit(X_train, Y_train)\n",
    "\n",
    "# calculate accuracy\n",
    "accuracy_train, accuracy_test = knn.score(X_train, Y_train), knn.score(X_test, Y_test)\n",
    "\n",
    "print(f'Train Accuracy: {accuracy_train}')\n",
    "print(f'Test Accuracy: {accuracy_test}')"
   ]
  },
  {
   "cell_type": "code",
   "execution_count": 21,
   "metadata": {},
   "outputs": [
    {
     "name": "stderr",
     "output_type": "stream",
     "text": [
      "/tmp/ipykernel_14704/1787675473.py:9: FutureWarning: The default argument for metric will be removed in future version of Annoy. Please pass metric='angular' explicitly.\n",
      "  annoy_index = AnnoyIndex(num_dimensions)\n"
     ]
    }
   ],
   "source": [
    "from annoy import AnnoyIndex\n",
    "from sklearn.neighbors import KNeighborsClassifier\n",
    "from sklearn.model_selection import train_test_split\n",
    "from sklearn.metrics import accuracy_score\n",
    "\n",
    "# Create an Annoy index for approximate nearest neighbor search\n",
    "num_dimensions = len(X.columns)  # Number of dimensions for the feature vectors\n",
    "num_trees = 10  # Number of trees in the Annoy index\n",
    "annoy_index = AnnoyIndex(num_dimensions)"
   ]
  },
  {
   "cell_type": "code",
   "execution_count": 23,
   "metadata": {},
   "outputs": [
    {
     "data": {
      "text/plain": [
       "True"
      ]
     },
     "execution_count": 23,
     "metadata": {},
     "output_type": "execute_result"
    }
   ],
   "source": [
    "# Add data vectors to the Annoy index\n",
    "for i, vector in enumerate(X.values):\n",
    "    annoy_index.add_item(i, vector)\n",
    "annoy_index.build(num_trees)"
   ]
  },
  {
   "cell_type": "code",
   "execution_count": 26,
   "metadata": {},
   "outputs": [],
   "source": [
    "# Split the data into training and testing sets\n",
    "X_train, X_test, Y_train, Y_test = train_test_split(X, Y, test_size=split_percentage, random_state=42)\n"
   ]
  },
  {
   "cell_type": "code",
   "execution_count": 60,
   "metadata": {},
   "outputs": [],
   "source": [
    "# Find nearest neighbors' indices for training and testing data\n",
    "k_neighbors = 1  # Number of nearest neighbors to consider\n",
    "train_indices = [annoy_index.get_nns_by_vector(vector, k_neighbors) for vector in X_train.values]\n",
    "test_indices = [annoy_index.get_nns_by_vector(vector, k_neighbors) for vector in X_test.values]\n"
   ]
  },
  {
   "cell_type": "code",
   "execution_count": 61,
   "metadata": {},
   "outputs": [],
   "source": [
    "# Flatten the indices to 1D arrays\n",
    "train_indices = [index for sublist in train_indices for index in sublist]\n",
    "test_indices = [index for sublist in test_indices for index in sublist]\n"
   ]
  },
  {
   "cell_type": "code",
   "execution_count": 62,
   "metadata": {},
   "outputs": [],
   "source": [
    "# Get the corresponding labels for training and testing indices\n",
    "train_labels = Y[train_indices]\n",
    "test_labels = Y[test_indices]"
   ]
  },
  {
   "cell_type": "code",
   "execution_count": 63,
   "metadata": {},
   "outputs": [
    {
     "data": {
      "text/html": [
       "<style>#sk-container-id-1 {color: black;background-color: white;}#sk-container-id-1 pre{padding: 0;}#sk-container-id-1 div.sk-toggleable {background-color: white;}#sk-container-id-1 label.sk-toggleable__label {cursor: pointer;display: block;width: 100%;margin-bottom: 0;padding: 0.3em;box-sizing: border-box;text-align: center;}#sk-container-id-1 label.sk-toggleable__label-arrow:before {content: \"▸\";float: left;margin-right: 0.25em;color: #696969;}#sk-container-id-1 label.sk-toggleable__label-arrow:hover:before {color: black;}#sk-container-id-1 div.sk-estimator:hover label.sk-toggleable__label-arrow:before {color: black;}#sk-container-id-1 div.sk-toggleable__content {max-height: 0;max-width: 0;overflow: hidden;text-align: left;background-color: #f0f8ff;}#sk-container-id-1 div.sk-toggleable__content pre {margin: 0.2em;color: black;border-radius: 0.25em;background-color: #f0f8ff;}#sk-container-id-1 input.sk-toggleable__control:checked~div.sk-toggleable__content {max-height: 200px;max-width: 100%;overflow: auto;}#sk-container-id-1 input.sk-toggleable__control:checked~label.sk-toggleable__label-arrow:before {content: \"▾\";}#sk-container-id-1 div.sk-estimator input.sk-toggleable__control:checked~label.sk-toggleable__label {background-color: #d4ebff;}#sk-container-id-1 div.sk-label input.sk-toggleable__control:checked~label.sk-toggleable__label {background-color: #d4ebff;}#sk-container-id-1 input.sk-hidden--visually {border: 0;clip: rect(1px 1px 1px 1px);clip: rect(1px, 1px, 1px, 1px);height: 1px;margin: -1px;overflow: hidden;padding: 0;position: absolute;width: 1px;}#sk-container-id-1 div.sk-estimator {font-family: monospace;background-color: #f0f8ff;border: 1px dotted black;border-radius: 0.25em;box-sizing: border-box;margin-bottom: 0.5em;}#sk-container-id-1 div.sk-estimator:hover {background-color: #d4ebff;}#sk-container-id-1 div.sk-parallel-item::after {content: \"\";width: 100%;border-bottom: 1px solid gray;flex-grow: 1;}#sk-container-id-1 div.sk-label:hover label.sk-toggleable__label {background-color: #d4ebff;}#sk-container-id-1 div.sk-serial::before {content: \"\";position: absolute;border-left: 1px solid gray;box-sizing: border-box;top: 0;bottom: 0;left: 50%;z-index: 0;}#sk-container-id-1 div.sk-serial {display: flex;flex-direction: column;align-items: center;background-color: white;padding-right: 0.2em;padding-left: 0.2em;position: relative;}#sk-container-id-1 div.sk-item {position: relative;z-index: 1;}#sk-container-id-1 div.sk-parallel {display: flex;align-items: stretch;justify-content: center;background-color: white;position: relative;}#sk-container-id-1 div.sk-item::before, #sk-container-id-1 div.sk-parallel-item::before {content: \"\";position: absolute;border-left: 1px solid gray;box-sizing: border-box;top: 0;bottom: 0;left: 50%;z-index: -1;}#sk-container-id-1 div.sk-parallel-item {display: flex;flex-direction: column;z-index: 1;position: relative;background-color: white;}#sk-container-id-1 div.sk-parallel-item:first-child::after {align-self: flex-end;width: 50%;}#sk-container-id-1 div.sk-parallel-item:last-child::after {align-self: flex-start;width: 50%;}#sk-container-id-1 div.sk-parallel-item:only-child::after {width: 0;}#sk-container-id-1 div.sk-dashed-wrapped {border: 1px dashed gray;margin: 0 0.4em 0.5em 0.4em;box-sizing: border-box;padding-bottom: 0.4em;background-color: white;}#sk-container-id-1 div.sk-label label {font-family: monospace;font-weight: bold;display: inline-block;line-height: 1.2em;}#sk-container-id-1 div.sk-label-container {text-align: center;}#sk-container-id-1 div.sk-container {/* jupyter's `normalize.less` sets `[hidden] { display: none; }` but bootstrap.min.css set `[hidden] { display: none !important; }` so we also need the `!important` here to be able to override the default hidden behavior on the sphinx rendered scikit-learn.org. See: https://github.com/scikit-learn/scikit-learn/issues/21755 */display: inline-block !important;position: relative;}#sk-container-id-1 div.sk-text-repr-fallback {display: none;}</style><div id=\"sk-container-id-1\" class=\"sk-top-container\"><div class=\"sk-text-repr-fallback\"><pre>KNeighborsClassifier(n_neighbors=1)</pre><b>In a Jupyter environment, please rerun this cell to show the HTML representation or trust the notebook. <br />On GitHub, the HTML representation is unable to render, please try loading this page with nbviewer.org.</b></div><div class=\"sk-container\" hidden><div class=\"sk-item\"><div class=\"sk-estimator sk-toggleable\"><input class=\"sk-toggleable__control sk-hidden--visually\" id=\"sk-estimator-id-1\" type=\"checkbox\" checked><label for=\"sk-estimator-id-1\" class=\"sk-toggleable__label sk-toggleable__label-arrow\">KNeighborsClassifier</label><div class=\"sk-toggleable__content\"><pre>KNeighborsClassifier(n_neighbors=1)</pre></div></div></div></div></div>"
      ],
      "text/plain": [
       "KNeighborsClassifier(n_neighbors=1)"
      ]
     },
     "execution_count": 63,
     "metadata": {},
     "output_type": "execute_result"
    }
   ],
   "source": [
    "# Initialize and train the KNeighborsClassifier\n",
    "model = KNeighborsClassifier(n_neighbors=k_neighbors)\n",
    "model.fit(X_train, train_labels)"
   ]
  },
  {
   "cell_type": "code",
   "execution_count": 65,
   "metadata": {},
   "outputs": [
    {
     "name": "stdout",
     "output_type": "stream",
     "text": [
      "Accuracy: 0.5210084033613446\n"
     ]
    }
   ],
   "source": [
    "# Make predictions on the test set\n",
    "Y_pred = model.predict(X_test)\n",
    "\n",
    "# Evaluate the accuracy of the model\n",
    "accuracy = accuracy_score(test_labels, Y_pred)\n",
    "print(\"Accuracy:\", accuracy)"
   ]
  },
  {
   "cell_type": "code",
   "execution_count": null,
   "metadata": {},
   "outputs": [],
   "source": []
  },
  {
   "cell_type": "code",
   "execution_count": null,
   "metadata": {},
   "outputs": [],
   "source": []
  },
  {
   "cell_type": "code",
   "execution_count": null,
   "metadata": {},
   "outputs": [],
   "source": []
  }
 ],
 "metadata": {
  "kernelspec": {
   "display_name": "Python 3",
   "language": "python",
   "name": "python3"
  },
  "language_info": {
   "codemirror_mode": {
    "name": "ipython",
    "version": 3
   },
   "file_extension": ".py",
   "mimetype": "text/x-python",
   "name": "python",
   "nbconvert_exporter": "python",
   "pygments_lexer": "ipython3",
   "version": "3.10.11"
  }
 },
 "nbformat": 4,
 "nbformat_minor": 0
}
